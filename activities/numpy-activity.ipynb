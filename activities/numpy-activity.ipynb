{
 "cells": [
  {
   "cell_type": "markdown",
   "metadata": {
    "id": "A4GF3lV6jm5x"
   },
   "source": [
    "# **Activity 1: NumPy Exercise**\n",
    "\n",
    "**Objective:**\n",
    "\n",
    "Practice NumPy's array manipulation, indexing, and mathematical functions by solving problems related to basic data analysis and matrix operations."
   ]
  },
  {
   "cell_type": "markdown",
   "metadata": {
    "id": "Pq3P9XLbjVU4"
   },
   "source": [
    "## **Part 1**"
   ]
  },
  {
   "cell_type": "markdown",
   "metadata": {
    "id": "VkOXGCuiLGR9"
   },
   "source": [
    "#### 1. Import the numpy package under the name `np`\n"
   ]
  },
  {
   "cell_type": "code",
   "execution_count": 4,
   "metadata": {
    "id": "DhbEnfx8O314"
   },
   "outputs": [],
   "source": [
    "import numpy as np"
   ]
  },
  {
   "cell_type": "markdown",
   "metadata": {
    "id": "ktNjFh4pO-5C"
   },
   "source": [
    "#### 2. Print the numpy version"
   ]
  },
  {
   "cell_type": "code",
   "execution_count": 6,
   "metadata": {
    "id": "7tZfwQhhPQoI"
   },
   "outputs": [
    {
     "name": "stdout",
     "output_type": "stream",
     "text": [
      "2.2.2\n"
     ]
    }
   ],
   "source": [
    "print(np.version.version)"
   ]
  },
  {
   "cell_type": "markdown",
   "metadata": {
    "id": "D4V99t3oQRAB"
   },
   "source": [
    "#### 3. Create a null array of size 5"
   ]
  },
  {
   "cell_type": "code",
   "execution_count": 5,
   "metadata": {
    "id": "XnL-QmA_QYa2"
   },
   "outputs": [
    {
     "data": {
      "text/plain": [
       "array([None, None, None, None, None], dtype=object)"
      ]
     },
     "execution_count": 5,
     "metadata": {},
     "output_type": "execute_result"
    }
   ],
   "source": [
    "np.array([None,None,None,None,None])"
   ]
  },
  {
   "cell_type": "markdown",
   "metadata": {
    "id": "x9tAEjPlQcnh"
   },
   "source": [
    "#### 4. Create a null array of size 15 but the seventh value which is 1"
   ]
  },
  {
   "cell_type": "code",
   "execution_count": 8,
   "metadata": {
    "id": "VgwfRV6OQlGk"
   },
   "outputs": [
    {
     "name": "stdout",
     "output_type": "stream",
     "text": [
      "[None None None None None None None None None None None None None None 1]\n"
     ]
    }
   ],
   "source": [
    "x = []\n",
    "for i in range(15):\n",
    "    if i == 14:\n",
    "        x.append(1)\n",
    "    else:\n",
    "        x.append(None)\n",
    "\n",
    "print(np.array(x))"
   ]
  },
  {
   "cell_type": "markdown",
   "metadata": {
    "id": "a5_Af-hYTi-X"
   },
   "source": [
    "#### 5. Create a 4x4 matrix with values ranging from 0 to 11"
   ]
  },
  {
   "cell_type": "code",
   "execution_count": 13,
   "metadata": {
    "id": "HSlLeK5YQ5Lo"
   },
   "outputs": [
    {
     "name": "stdout",
     "output_type": "stream",
     "text": [
      "[[ 0  1  2  3]\n",
      " [ 4  5  6  7]\n",
      " [ 8  9 10 11]\n",
      " [12 13 14 15]]\n"
     ]
    }
   ],
   "source": [
    "a = np.arange(0, 16).reshape(4,4)\n",
    "print(a)"
   ]
  },
  {
   "cell_type": "markdown",
   "metadata": {
    "id": "nLJvzwjfVXOL"
   },
   "source": [
    "#### 6. Find indices of non-zero elements from [1,2,4,0,4,0]"
   ]
  },
  {
   "cell_type": "code",
   "execution_count": 14,
   "metadata": {
    "id": "o8vyHuWfVbXu"
   },
   "outputs": [
    {
     "name": "stdout",
     "output_type": "stream",
     "text": [
      "(array([3, 5]),)\n"
     ]
    }
   ],
   "source": [
    "arr = np.array([1, 2, 4, 0, 4, 0])\n",
    "x = np.where(arr == 0)\n",
    "print(x)"
   ]
  },
  {
   "cell_type": "markdown",
   "metadata": {
    "id": "z6OrgicLV6C-"
   },
   "source": [
    "#### 7. Create a 4x4x4 array with random values"
   ]
  },
  {
   "cell_type": "code",
   "execution_count": 32,
   "metadata": {
    "id": "MhcNEK55V1UF"
   },
   "outputs": [
    {
     "name": "stdout",
     "output_type": "stream",
     "text": [
      "[[[0.07965219 0.84091112 0.41324215 0.37324121]\n",
      "  [0.41706856 0.54722024 0.30782865 0.79995338]\n",
      "  [0.41071317 0.62392857 0.68334805 0.86164669]\n",
      "  [0.40352237 0.96342597 0.70235387 0.45679791]]\n",
      "\n",
      " [[0.34065816 0.46048847 0.87881994 0.3680335 ]\n",
      "  [0.85824158 0.84828752 0.91281319 0.60236429]\n",
      "  [0.06181935 0.39872226 0.37179768 0.28792278]\n",
      "  [0.31599705 0.16650598 0.47542804 0.49444035]]\n",
      "\n",
      " [[0.72104005 0.00481479 0.64920495 0.83225911]\n",
      "  [0.96925512 0.84440098 0.83931694 0.70106823]\n",
      "  [0.99952496 0.30665456 0.95899006 0.2488705 ]\n",
      "  [0.823172   0.89958463 0.79211982 0.61584686]]\n",
      "\n",
      " [[0.27413305 0.45328788 0.28183429 0.39996351]\n",
      "  [0.08081985 0.60804423 0.38257664 0.38916748]\n",
      "  [0.72669439 0.46479043 0.15705368 0.54075599]\n",
      "  [0.34948554 0.15758826 0.96608464 0.8943756 ]]]\n"
     ]
    }
   ],
   "source": [
    "from numpy import random\n",
    "a = random.rand(4,4,4)\n",
    "print(a)"
   ]
  },
  {
   "cell_type": "markdown",
   "metadata": {
    "id": "aLqeru_NWso3"
   },
   "source": [
    "#### 8. Create a 15x15 array with random assigned values and find the min and max values"
   ]
  },
  {
   "cell_type": "code",
   "execution_count": 45,
   "metadata": {
    "id": "eSpxGZ2GWqDo"
   },
   "outputs": [
    {
     "name": "stdout",
     "output_type": "stream",
     "text": [
      "[[0.05170019 0.19590914 0.76297626 0.38447433 0.62750234 0.16725351\n",
      "  0.50801837 0.55847606 0.51383501 0.08326749 0.79118229 0.33825868\n",
      "  0.3978419  0.78143036 0.8956661 ]\n",
      " [0.57526804 0.87771122 0.45653417 0.65187067 0.24233237 0.315194\n",
      "  0.80057511 0.10852976 0.29556371 0.19410715 0.4509251  0.47761125\n",
      "  0.86100412 0.12727064 0.32470083]\n",
      " [0.86984702 0.47704363 0.05375982 0.69237246 0.07907709 0.37942894\n",
      "  0.49986926 0.73254632 0.4094573  0.43904951 0.51100034 0.94458568\n",
      "  0.24853789 0.32715498 0.62154791]\n",
      " [0.27193469 0.7701427  0.72046173 0.61816383 0.4347252  0.68394365\n",
      "  0.99367696 0.8134871  0.30631209 0.33793095 0.76570248 0.79550622\n",
      "  0.32762387 0.66223167 0.08830216]\n",
      " [0.77657449 0.88445844 0.24712939 0.5332462  0.190238   0.11069323\n",
      "  0.37790566 0.48792235 0.58352047 0.98955587 0.18236406 0.40275423\n",
      "  0.62835253 0.84533503 0.50157008]\n",
      " [0.4556847  0.31467854 0.91597232 0.63047954 0.91010516 0.00861698\n",
      "  0.38012227 0.42207524 0.84943629 0.55502346 0.64859245 0.01758104\n",
      "  0.49449018 0.67965609 0.37473992]\n",
      " [0.18041928 0.72334804 0.12126195 0.79941764 0.67600903 0.771996\n",
      "  0.03980622 0.5216952  0.80693504 0.13625314 0.83916671 0.62811684\n",
      "  0.00202636 0.78612667 0.55737464]\n",
      " [0.29339603 0.28858021 0.36908475 0.33113611 0.51255499 0.38317214\n",
      "  0.49097736 0.51067615 0.87230612 0.50939821 0.70123549 0.17926373\n",
      "  0.49980943 0.22757214 0.88507042]\n",
      " [0.43022091 0.92501369 0.56250278 0.95883695 0.14849952 0.99668427\n",
      "  0.9495136  0.65816161 0.2901316  0.15084083 0.55332887 0.16885393\n",
      "  0.72903426 0.74938033 0.10467192]\n",
      " [0.09044993 0.39849972 0.72759232 0.44259779 0.47466124 0.06439149\n",
      "  0.35580043 0.60304817 0.81776602 0.74220451 0.89159055 0.42753074\n",
      "  0.73192078 0.17266218 0.15333779]\n",
      " [0.79385528 0.58043508 0.36811948 0.07463646 0.71391854 0.87056346\n",
      "  0.38092288 0.5604851  0.20988105 0.26025745 0.62907226 0.76650618\n",
      "  0.67271456 0.34958949 0.89221258]\n",
      " [0.73804257 0.19719477 0.66014308 0.31703471 0.53404146 0.22305391\n",
      "  0.33761769 0.0610837  0.57859168 0.19373956 0.72805477 0.51104597\n",
      "  0.44410339 0.46856233 0.1944182 ]\n",
      " [0.91683821 0.19606406 0.19329454 0.07405109 0.49351025 0.62035434\n",
      "  0.58334374 0.27366922 0.56505582 0.48254499 0.69724412 0.3719702\n",
      "  0.24166076 0.64864884 0.39571772]\n",
      " [0.93313126 0.49344352 0.94602136 0.48368551 0.0137161  0.38372473\n",
      "  0.97381092 0.9715164  0.47557276 0.24686002 0.43394039 0.63631167\n",
      "  0.81085183 0.06658391 0.69723444]\n",
      " [0.61662393 0.795187   0.33735296 0.76064777 0.24106057 0.41362578\n",
      "  0.22971381 0.744297   0.44923305 0.16769035 0.75294958 0.55063072\n",
      "  0.330081   0.86479407 0.88645034]]\n",
      "Minimum Value:  0.0020263619763251084\n",
      "Maximum Value:  0.9966842662088079\n"
     ]
    }
   ],
   "source": [
    "array = np.random.rand(15,15)\n",
    "print(array)\n",
    "min = array.min()\n",
    "max = array.max()\n",
    "print(\"Minimum Value: \", min)\n",
    "print(\"Maximum Value: \", max)"
   ]
  },
  {
   "cell_type": "markdown",
   "metadata": {
    "id": "jIAQPvclbEVr"
   },
   "source": [
    "#### 9. Create a random array of size 25 and find the mean value"
   ]
  },
  {
   "cell_type": "code",
   "execution_count": null,
   "metadata": {
    "id": "q91Y8GMebPeY"
   },
   "outputs": [],
   "source": [
    "rand_num = np.random()"
   ]
  },
  {
   "cell_type": "markdown",
   "metadata": {
    "id": "1z3JFRgAkmNP"
   },
   "source": [
    "#### 10.  Show your codes\n",
    "\n",
    "Given:\n",
    "\n",
    "array 1 = ([2, 4, 9])\\\n",
    "array 2 = ([1, 14, 6])\n",
    "\n",
    "  *Note: Recreate the arrays*"
   ]
  },
  {
   "cell_type": "code",
   "execution_count": null,
   "metadata": {
    "id": "jiC8LUdknLPN"
   },
   "outputs": [],
   "source": []
  },
  {
   "cell_type": "markdown",
   "metadata": {
    "id": "QFPFjpSSmecQ"
   },
   "source": [
    "10.1 What is the result of *a + b*?"
   ]
  },
  {
   "cell_type": "code",
   "execution_count": null,
   "metadata": {
    "id": "Yqcpj3ccm5La"
   },
   "outputs": [],
   "source": []
  },
  {
   "cell_type": "markdown",
   "metadata": {
    "id": "t0__U1Bum7k6"
   },
   "source": [
    "10.2 What is the result of *a - b*?"
   ]
  },
  {
   "cell_type": "code",
   "execution_count": null,
   "metadata": {
    "id": "SmuAcAubnCNO"
   },
   "outputs": [],
   "source": []
  },
  {
   "cell_type": "markdown",
   "metadata": {
    "id": "5dbiR_Urm5fJ"
   },
   "source": [
    "10.3 What is the result of *a × b*?"
   ]
  },
  {
   "cell_type": "code",
   "execution_count": null,
   "metadata": {
    "id": "Zpnb_vGqksSF"
   },
   "outputs": [],
   "source": []
  },
  {
   "cell_type": "markdown",
   "metadata": {
    "id": "jHTozQuZp2WM"
   },
   "source": [
    "10.4 What is the result of *a ÷ b*?"
   ]
  },
  {
   "cell_type": "code",
   "execution_count": null,
   "metadata": {
    "id": "9Jx0GzTIqArP"
   },
   "outputs": [],
   "source": []
  },
  {
   "cell_type": "markdown",
   "metadata": {
    "id": "I3FhrIORjZsA"
   },
   "source": [
    "## **Part 2**"
   ]
  },
  {
   "cell_type": "markdown",
   "metadata": {
    "id": "JDa9MTb2wXPi"
   },
   "source": [
    "##### NumPy Array Indexing"
   ]
  },
  {
   "cell_type": "markdown",
   "metadata": {
    "id": "M4rwQgDqrLoo"
   },
   "source": [
    "\n",
    "Given the following matrix:\n",
    "\n",
    "        [[10, 20, 30],\n",
    "        [40, 50, 60],\n",
    "        [70, 80, 90]]\n",
    "\n",
    " 1. Recreate the matrix"
   ]
  },
  {
   "cell_type": "code",
   "execution_count": null,
   "metadata": {
    "id": "Ra4n8YBQr2RZ"
   },
   "outputs": [],
   "source": []
  },
  {
   "cell_type": "markdown",
   "metadata": {
    "id": "br-ZYkK3uo24"
   },
   "source": [
    "1. Write code to extract the element 50."
   ]
  },
  {
   "cell_type": "code",
   "execution_count": null,
   "metadata": {
    "id": "kI7jzTiYrTep"
   },
   "outputs": [],
   "source": []
  },
  {
   "cell_type": "markdown",
   "metadata": {
    "id": "H1OsD655sEX6"
   },
   "source": [
    "2. **Extract a Row**\\\n",
    "\\\n",
    "Using the same array arr, extract the second row as a separate NumPy array."
   ]
  },
  {
   "cell_type": "code",
   "execution_count": null,
   "metadata": {
    "id": "jf-K5No5sRob"
   },
   "outputs": [],
   "source": []
  },
  {
   "cell_type": "markdown",
   "metadata": {
    "id": "qk1-NvWjsVC3"
   },
   "source": [
    "3.  **Extract a Column**\\\n",
    "\\\n",
    "Using arr, extract the third column as a separate NumPy array."
   ]
  },
  {
   "cell_type": "code",
   "execution_count": null,
   "metadata": {
    "id": "d1s1c5q9sgID"
   },
   "outputs": [],
   "source": []
  },
  {
   "cell_type": "markdown",
   "metadata": {
    "id": "DIe9pf8nskUZ"
   },
   "source": [
    "4. **Extract a Submatrix**\\\n",
    "\\\n",
    "Extract the following 2×2 submatrix from arr:\\\n",
    "\n",
    "  [[50 60]\\\n",
    " [80 90]]"
   ]
  },
  {
   "cell_type": "code",
   "execution_count": null,
   "metadata": {
    "id": "37dC5sA3ssZV"
   },
   "outputs": [],
   "source": []
  },
  {
   "cell_type": "markdown",
   "metadata": {
    "id": "ABs-32sKwOcg"
   },
   "source": [
    "##### NumPy Array Slicing"
   ]
  },
  {
   "cell_type": "markdown",
   "metadata": {
    "id": "T7kcCxr9uGAO"
   },
   "source": [
    "Given the following matrix:\n",
    "\n",
    "                [ 1,  2,  3,  4],\n",
    "                [ 5,  6,  7,  8],\n",
    "                [ 9, 10, 11, 12]]\n",
    "\n",
    "1. Recreate the matrix"
   ]
  },
  {
   "cell_type": "code",
   "execution_count": null,
   "metadata": {
    "id": "CvzBw2FpwasA"
   },
   "outputs": [],
   "source": []
  },
  {
   "cell_type": "markdown",
   "metadata": {
    "id": "YaaIsRTVwlof"
   },
   "source": [
    "2. Write code to extract the following 2×2 subarray:\n",
    "\n",
    "        [[ 6  7]\n",
    "        [10 11]]"
   ]
  },
  {
   "cell_type": "code",
   "execution_count": null,
   "metadata": {
    "id": "PpyFr5wYwuLN"
   },
   "outputs": [],
   "source": []
  },
  {
   "cell_type": "markdown",
   "metadata": {
    "id": "poinisgbw02m"
   },
   "source": [
    "3. Using the same matrix, write code to extract every other element from the first row (expected output: [1, 3])."
   ]
  },
  {
   "cell_type": "code",
   "execution_count": null,
   "metadata": {
    "id": "9UyP9S3Ww-wf"
   },
   "outputs": [],
   "source": []
  },
  {
   "cell_type": "markdown",
   "metadata": {
    "id": "0it7IxPqxTq3"
   },
   "source": [
    "4. Write code to reverse the order of rows in the matrix"
   ]
  },
  {
   "cell_type": "code",
   "execution_count": null,
   "metadata": {
    "id": "-tqPKhrmxWP7"
   },
   "outputs": [],
   "source": []
  },
  {
   "cell_type": "markdown",
   "metadata": {
    "id": "C8EWGps7xfYl"
   },
   "source": [
    "5. Write code to extract the last two columns of the matrix."
   ]
  },
  {
   "cell_type": "code",
   "execution_count": null,
   "metadata": {
    "id": "F7sJw1N1xiKC"
   },
   "outputs": [],
   "source": []
  },
  {
   "cell_type": "markdown",
   "metadata": {
    "id": "_8sVIp1q2MYw"
   },
   "source": [
    "##### NumPy Array Joins\n",
    "\n",
    "1. Given the following arrays:\n",
    "\n",
    "        arr1 = ([11, 7, 33])\\\n",
    "        arr2 = ([44, 5, 18])\n",
    "\n",
    "1.1 Recreate the arrays"
   ]
  },
  {
   "cell_type": "code",
   "execution_count": null,
   "metadata": {
    "id": "-1H2IYDs2hMx"
   },
   "outputs": [],
   "source": []
  },
  {
   "cell_type": "markdown",
   "metadata": {
    "id": "jJ-OxwEZ2ysr"
   },
   "source": [
    "2. Write code to join arr1 and arr2 into a single 1D array."
   ]
  },
  {
   "cell_type": "code",
   "execution_count": null,
   "metadata": {
    "id": "fyKL42Yv2ewQ"
   },
   "outputs": [],
   "source": []
  },
  {
   "cell_type": "markdown",
   "metadata": {
    "id": "1qiYH-0v25Z2"
   },
   "source": [
    "3. Using arr1 and arr2 from question 1, write code to stack them vertically into a 2D array."
   ]
  },
  {
   "cell_type": "code",
   "execution_count": null,
   "metadata": {
    "id": "MgR89wkS2_Nw"
   },
   "outputs": [],
   "source": []
  },
  {
   "cell_type": "markdown",
   "metadata": {
    "id": "mLanHC623JpJ"
   },
   "source": [
    "4. Given the 2D arrays:\n",
    "\n",
    "        arr1 = ([[1, 2],\n",
    "               [3, 4]])\n",
    "\n",
    "        arr2 = ([[5, 6],\n",
    "               [7, 8]])\n",
    "\n",
    "4.1 Recreate the arrays"
   ]
  },
  {
   "cell_type": "code",
   "execution_count": null,
   "metadata": {
    "id": "FDGnOATJ3JE4"
   },
   "outputs": [],
   "source": []
  },
  {
   "cell_type": "markdown",
   "metadata": {
    "id": "RyJFIfpo3wiA"
   },
   "source": [
    "5. Write code to join them horizontally (column-wise)."
   ]
  },
  {
   "cell_type": "code",
   "execution_count": null,
   "metadata": {
    "id": "0eHEY4N63zgT"
   },
   "outputs": [],
   "source": []
  },
  {
   "cell_type": "markdown",
   "metadata": {
    "id": "encqt9P74ZSv"
   },
   "source": [
    "6. Using arr1 and arr2 from question 4, write code to join them vertically (row-wise).\n"
   ]
  },
  {
   "cell_type": "code",
   "execution_count": null,
   "metadata": {
    "id": "o-UjS1Kn4rS7"
   },
   "outputs": [],
   "source": []
  },
  {
   "cell_type": "markdown",
   "metadata": {
    "id": "2l2umcfvjlXq"
   },
   "source": [
    "## **Part 3**"
   ]
  },
  {
   "cell_type": "markdown",
   "metadata": {
    "id": "-rs5StZQlvYg"
   },
   "source": [
    "### Task 1: Array Creation"
   ]
  },
  {
   "cell_type": "markdown",
   "metadata": {
    "id": "PKyTiCLulztg"
   },
   "source": [
    "Create the following arrays:\n",
    "\n",
    "- A 1D array of integers from 10 to 28, with a step of 2.\n",
    "- A 2D array with shape (4, 4) containing random integers between 1 and 50.\n",
    "- A 3D array of shape (2, 3, 4) filled with ones.\n",
    "\n"
   ]
  },
  {
   "cell_type": "code",
   "execution_count": null,
   "metadata": {
    "collapsed": true,
    "id": "GRWUhpV46cR4",
    "jupyter": {
     "outputs_hidden": true
    }
   },
   "outputs": [],
   "source": []
  },
  {
   "cell_type": "markdown",
   "metadata": {
    "id": "yZPELZSx7ggA"
   },
   "source": [
    "### Task 2: Array Transformations\n",
    "Perform the following operations:\n",
    "- Reshape the 1D array to a 2D array with 2 rows.\n",
    "- Extract the last two rows of the 2D array (From Task 1)\n",
    "- Replace all even numbers in the 2D array with -1. (From Task 1)"
   ]
  },
  {
   "cell_type": "code",
   "execution_count": null,
   "metadata": {
    "id": "5EJrW4nw7sIE"
   },
   "outputs": [],
   "source": []
  },
  {
   "cell_type": "markdown",
   "metadata": {
    "id": "ZkDoNNBjn7nP"
   },
   "source": [
    "### Task 3: Statistical Operations"
   ]
  },
  {
   "cell_type": "markdown",
   "metadata": {
    "id": "87sRNKp0n7nP"
   },
   "source": [
    "Using the 2D array from **Task 1**, compute the following:\n",
    "\n",
    "- The mean, median, and standard deviation of the array. (From Task 1)\n",
    "- The sum of all elements along each row. (From Task 1)\n",
    "- The maximum value and its index in the entire array. (From Task 1)\n"
   ]
  },
  {
   "cell_type": "code",
   "execution_count": null,
   "metadata": {
    "id": "TEoMfRV68VlZ"
   },
   "outputs": [],
   "source": []
  },
  {
   "cell_type": "markdown",
   "metadata": {
    "id": "T_X0kP3I9eWi"
   },
   "source": [
    "###  Task 4: Advanced Analysis on Large Arrays"
   ]
  },
  {
   "cell_type": "markdown",
   "metadata": {
    "id": "B6uTdro89kE7"
   },
   "source": [
    "- Create a (10, 10) array containing random floating-point numbers between 0 and 1.\n",
    "- Find the minimum value along each column.\n",
    "- Find the indices of the top 5 largest values in the entire array."
   ]
  },
  {
   "cell_type": "code",
   "execution_count": null,
   "metadata": {
    "id": "UwJw1MIn9ovK"
   },
   "outputs": [],
   "source": []
  }
 ],
 "metadata": {
  "colab": {
   "collapsed_sections": [
    "JDa9MTb2wXPi",
    "ABs-32sKwOcg"
   ],
   "provenance": []
  },
  "kernelspec": {
   "display_name": "Python 3 (ipykernel)",
   "language": "python",
   "name": "python3"
  },
  "language_info": {
   "codemirror_mode": {
    "name": "ipython",
    "version": 3
   },
   "file_extension": ".py",
   "mimetype": "text/x-python",
   "name": "python",
   "nbconvert_exporter": "python",
   "pygments_lexer": "ipython3",
   "version": "3.12.2"
  }
 },
 "nbformat": 4,
 "nbformat_minor": 4
}
